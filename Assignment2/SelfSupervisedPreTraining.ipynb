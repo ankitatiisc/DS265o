{
 "cells": [
  {
   "cell_type": "markdown",
   "metadata": {},
   "source": [
    "# Slef-Supervised Pre-training\n",
    "Take the CIFAR-10 dataset, each class has 5000 samples and there are 10 classes.\n",
    "Split the dataset in 2 parts (A) 40000 and (B) 10000 each with equal number of samples per class in each split.\n",
    "\n",
    "Discard the labels of the samples in the first set.\n",
    "Take a resnet-18 (initialised) and strip the imagenet classification layer with a 4 way classification layer.\n",
    "Train this network on the self-training task of classifiying the rotation of the image.\n",
    "\n",
    "Once this self-supervised pretraining is done, strip the classification layer and add a classification layer for CIFAR-10 classification this is finetuned on the set B for the task of image classification.\n",
    "\n",
    "Log the loss and accuracies for both the pre-training task and classfication task.\n",
    "\n",
    "You are free tou use ML API of your choice."
   ]
  }
 ],
 "metadata": {
  "language_info": {
   "name": "python"
  },
  "orig_nbformat": 4
 },
 "nbformat": 4,
 "nbformat_minor": 2
}
