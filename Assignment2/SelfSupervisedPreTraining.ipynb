{
 "cells": [
  {
   "cell_type": "markdown",
   "metadata": {},
   "source": [
    "## Self-Supervised Pre-training\n",
    "\n",
    "### What is rotation classification task?\n",
    "One important self-training task is the task of rotation classification. Here given a set of unlabeled images, we randomly rotate it to either of the following angles {0, 90, 180, 270} degrees and train a image rotation classifier which predicts by what angle the initial image has been rotated to generate the current image. The problem is set up as a classification problem since we only rotate our images by a fixed set of angles as mentioned before and the corresponding ground truth labels being {0, 1, 2, 3}.\n",
    "\n",
    "<center>\n",
    "<img src=\"./fig/Self-training-rot.png\" width=\"524\" height=\"300\">\n",
    "</center>\n",
    "\n",
    "Once the self-training based pretraining is done, we strip away the final classification layer(which is a linear layer) and add Convolutional or linear layers as per the downstream task's requirement.\n",
    "\n",
    "\n",
    "### Details of this problem statement.\n",
    "\n",
    "1. Take the CIFAR-10 dataset, each class has 5000 samples and there are 10 classes.\n",
    "Split the dataset in 2 parts (A) 40000 and (B) 10000 each with equal number of samples per class in each split.\n",
    "2. Discard the labels of the samples in the first set.\n",
    "3. Take a resnet-18 (initialised) and strip the imagenet classification layer with a 4 way classification layer.\n",
    "4. Train this network on the self-training task of classifiying the rotation of the image.\n",
    "5. Once this self-supervised pretraining is done, strip the classification layer and add a classification layer for CIFAR-10 classification this is finetuned on the set B for the task of image classification.\n",
    "6. Log the loss(cross entropy) and accuracies for both the pre-training task and classfication task.\n",
    "\n",
    "You are free tou use ML API of your choice. Your work will be checked for plagiarism!!\n",
    "\n",
    "### Citations and helpful references \n",
    "[1]. https://www.youtube.com/watch?v=8L10w1KoOU8&t=694s <br>\n",
    "[2]. https://openaccess.thecvf.com/content_CVPR_2019/papers/Feng_Self-Supervised_Representation_Learning_by_Rotation_Feature_Decoupling_CVPR_2019_paper.pdf"
   ]
  }
 ],
 "metadata": {
  "kernelspec": {
   "display_name": "Python 3.9.7 ('LogitAdjustmentLongTail')",
   "language": "python",
   "name": "python3"
  },
  "language_info": {
   "name": "python",
   "version": "3.9.7"
  },
  "orig_nbformat": 4,
  "vscode": {
   "interpreter": {
    "hash": "49598912cb7efc65e0007e347a7051cc5ac4c91b95dad2ffbc631da6724968c7"
   }
  }
 },
 "nbformat": 4,
 "nbformat_minor": 2
}
