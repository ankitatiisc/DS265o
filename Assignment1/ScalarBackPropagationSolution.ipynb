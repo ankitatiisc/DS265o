{
 "cells": [
  {
   "cell_type": "code",
   "execution_count": 1,
   "metadata": {},
   "outputs": [],
   "source": [
    "import torch \n",
    "from torch.autograd import Variable\n",
    "\n",
    "def f(x,y,z):\n",
    "    return torch.log(torch.sigmoid((torch.cos(torch.pi * x) + torch.sin(torch.pi * y/2))/torch.tanh(z*z)))"
   ]
  },
  {
   "cell_type": "markdown",
   "metadata": {},
   "source": [
    "## Solution for input (x=1, y=2, z=3)"
   ]
  },
  {
   "cell_type": "code",
   "execution_count": 2,
   "metadata": {},
   "outputs": [
    {
     "data": {
      "text/plain": [
       "(tensor([2.0078e-07]), tensor([-1.1483]), tensor([5.2289e-07]))"
      ]
     },
     "execution_count": 2,
     "metadata": {},
     "output_type": "execute_result"
    }
   ],
   "source": [
    "x, y, z = 1.0, 2.0, 3.0\n",
    "x, y, z = Variable(torch.tensor([x]), requires_grad=True), Variable(torch.tensor([y]), requires_grad=True), Variable(torch.tensor([z]), requires_grad=True)\n",
    "out = f(x,y,z)\n",
    "out.backward()\n",
    "x.grad, y.grad, z.grad"
   ]
  },
  {
   "cell_type": "markdown",
   "metadata": {},
   "source": [
    "## Solution for input (x=3, y=2, z=1)"
   ]
  },
  {
   "cell_type": "code",
   "execution_count": 3,
   "metadata": {},
   "outputs": [
    {
     "data": {
      "text/plain": [
       "(tensor([7.7526e-08]), tensor([-1.6253]), tensor([1.1412]))"
      ]
     },
     "execution_count": 3,
     "metadata": {},
     "output_type": "execute_result"
    }
   ],
   "source": [
    "x, y, z = 3.0,2.0,1.0\n",
    "x, y, z = Variable(torch.tensor([x]), requires_grad=True), Variable(torch.tensor([y]), requires_grad=True), Variable(torch.tensor([z]), requires_grad=True)\n",
    "out = f(x,y,z)\n",
    "out.backward()\n",
    "x.grad, y.grad, z.grad"
   ]
  }
 ],
 "metadata": {
  "kernelspec": {
   "display_name": "Python 3.9.7 ('LogitAdjustmentLongTail')",
   "language": "python",
   "name": "python3"
  },
  "language_info": {
   "codemirror_mode": {
    "name": "ipython",
    "version": 3
   },
   "file_extension": ".py",
   "mimetype": "text/x-python",
   "name": "python",
   "nbconvert_exporter": "python",
   "pygments_lexer": "ipython3",
   "version": "3.9.7"
  },
  "orig_nbformat": 4,
  "vscode": {
   "interpreter": {
    "hash": "49598912cb7efc65e0007e347a7051cc5ac4c91b95dad2ffbc631da6724968c7"
   }
  }
 },
 "nbformat": 4,
 "nbformat_minor": 2
}
